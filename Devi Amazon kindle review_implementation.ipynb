{
 "cells": [
  {
   "cell_type": "code",
   "execution_count": null,
   "metadata": {},
   "outputs": [],
   "source": [
    "!jt -t monokai -f fira -fs 13 -nf ptsans -nfs 10 -N -kl -cursw 5 -cursc r -cellw 80% -T"
   ]
  },
  {
   "cell_type": "markdown",
   "metadata": {},
   "source": [
    "Download the dataset from the below link\n",
    "https://www.kaggle.com/bharadwaj6/kindle-reviews"
   ]
  },
  {
   "cell_type": "markdown",
   "metadata": {},
   "source": [
    "# Data Preprocessing"
   ]
  },
  {
   "cell_type": "code",
   "execution_count": null,
   "metadata": {},
   "outputs": [],
   "source": [
    "#import required libraries\n",
    "\n",
    "#import pandas library\n",
    "import pandas as pd\n",
    "#import numpy\n",
    "import numpy as np\n",
    "#import requests\n",
    "import requests\n",
    "#import io\n",
    "import io"
   ]
  },
  {
   "cell_type": "code",
   "execution_count": 70,
   "metadata": {},
   "outputs": [],
   "source": [
    "#import the dataset in the data variable\n",
    "data=pd.read_csv(r'C:\\Users\\SREE VARSHAN\\Desktop\\Amazon\\Analysis-of-Amazon-Kindle-Store-Reviews-main\\Dataset\\kindle_reviews_update.csv')"
   ]
  },
  {
   "cell_type": "code",
   "execution_count": 71,
   "metadata": {},
   "outputs": [
    {
     "data": {
      "text/plain": [
       "(982619, 10)"
      ]
     },
     "execution_count": 71,
     "metadata": {},
     "output_type": "execute_result"
    }
   ],
   "source": [
    "data.shape"
   ]
  },
  {
   "cell_type": "code",
   "execution_count": 72,
   "metadata": {},
   "outputs": [
    {
     "data": {
      "text/html": [
       "<div>\n",
       "<style scoped>\n",
       "    .dataframe tbody tr th:only-of-type {\n",
       "        vertical-align: middle;\n",
       "    }\n",
       "\n",
       "    .dataframe tbody tr th {\n",
       "        vertical-align: top;\n",
       "    }\n",
       "\n",
       "    .dataframe thead th {\n",
       "        text-align: right;\n",
       "    }\n",
       "</style>\n",
       "<table border=\"1\" class=\"dataframe\">\n",
       "  <thead>\n",
       "    <tr style=\"text-align: right;\">\n",
       "      <th></th>\n",
       "      <th>id</th>\n",
       "      <th>asin</th>\n",
       "      <th>helpful</th>\n",
       "      <th>overall</th>\n",
       "      <th>reviewText</th>\n",
       "      <th>reviewTime</th>\n",
       "      <th>reviewerID</th>\n",
       "      <th>reviewerName</th>\n",
       "      <th>summary</th>\n",
       "      <th>unixReviewTime</th>\n",
       "    </tr>\n",
       "  </thead>\n",
       "  <tbody>\n",
       "    <tr>\n",
       "      <th>0</th>\n",
       "      <td>0</td>\n",
       "      <td>B000F83SZQ</td>\n",
       "      <td>[0, 0]</td>\n",
       "      <td>5</td>\n",
       "      <td>I enjoy vintage books and movies so I enjoyed ...</td>\n",
       "      <td>05 5, 2014</td>\n",
       "      <td>A1F6404F1VG29J</td>\n",
       "      <td>Avidreader</td>\n",
       "      <td>Nice vintage story</td>\n",
       "      <td>1399248000</td>\n",
       "    </tr>\n",
       "    <tr>\n",
       "      <th>1</th>\n",
       "      <td>1</td>\n",
       "      <td>B000F83SZQ</td>\n",
       "      <td>[2, 2]</td>\n",
       "      <td>4</td>\n",
       "      <td>This book is a reissue of an old one; the auth...</td>\n",
       "      <td>01 6, 2014</td>\n",
       "      <td>AN0N05A9LIJEQ</td>\n",
       "      <td>critters</td>\n",
       "      <td>Different...</td>\n",
       "      <td>1388966400</td>\n",
       "    </tr>\n",
       "    <tr>\n",
       "      <th>2</th>\n",
       "      <td>2</td>\n",
       "      <td>B000F83SZQ</td>\n",
       "      <td>[2, 2]</td>\n",
       "      <td>4</td>\n",
       "      <td>This was a fairly interesting read.  It had ol...</td>\n",
       "      <td>04 4, 2014</td>\n",
       "      <td>A795DMNCJILA6</td>\n",
       "      <td>dot</td>\n",
       "      <td>Oldie</td>\n",
       "      <td>1396569600</td>\n",
       "    </tr>\n",
       "    <tr>\n",
       "      <th>3</th>\n",
       "      <td>3</td>\n",
       "      <td>B000F83SZQ</td>\n",
       "      <td>[1, 1]</td>\n",
       "      <td>5</td>\n",
       "      <td>I'd never read any of the Amy Brewster mysteri...</td>\n",
       "      <td>02 19, 2014</td>\n",
       "      <td>A1FV0SX13TWVXQ</td>\n",
       "      <td>Elaine H. Turley \"Montana Songbird\"</td>\n",
       "      <td>I really liked it.</td>\n",
       "      <td>1392768000</td>\n",
       "    </tr>\n",
       "    <tr>\n",
       "      <th>4</th>\n",
       "      <td>4</td>\n",
       "      <td>B000F83SZQ</td>\n",
       "      <td>[0, 1]</td>\n",
       "      <td>4</td>\n",
       "      <td>If you like period pieces - clothing, lingo, y...</td>\n",
       "      <td>03 19, 2014</td>\n",
       "      <td>A3SPTOKDG7WBLN</td>\n",
       "      <td>Father Dowling Fan</td>\n",
       "      <td>Period Mystery</td>\n",
       "      <td>1395187200</td>\n",
       "    </tr>\n",
       "  </tbody>\n",
       "</table>\n",
       "</div>"
      ],
      "text/plain": [
       "   id        asin helpful  overall  \\\n",
       "0   0  B000F83SZQ  [0, 0]        5   \n",
       "1   1  B000F83SZQ  [2, 2]        4   \n",
       "2   2  B000F83SZQ  [2, 2]        4   \n",
       "3   3  B000F83SZQ  [1, 1]        5   \n",
       "4   4  B000F83SZQ  [0, 1]        4   \n",
       "\n",
       "                                          reviewText   reviewTime  \\\n",
       "0  I enjoy vintage books and movies so I enjoyed ...   05 5, 2014   \n",
       "1  This book is a reissue of an old one; the auth...   01 6, 2014   \n",
       "2  This was a fairly interesting read.  It had ol...   04 4, 2014   \n",
       "3  I'd never read any of the Amy Brewster mysteri...  02 19, 2014   \n",
       "4  If you like period pieces - clothing, lingo, y...  03 19, 2014   \n",
       "\n",
       "       reviewerID                         reviewerName             summary  \\\n",
       "0  A1F6404F1VG29J                           Avidreader  Nice vintage story   \n",
       "1   AN0N05A9LIJEQ                             critters        Different...   \n",
       "2   A795DMNCJILA6                                  dot               Oldie   \n",
       "3  A1FV0SX13TWVXQ  Elaine H. Turley \"Montana Songbird\"  I really liked it.   \n",
       "4  A3SPTOKDG7WBLN                   Father Dowling Fan      Period Mystery   \n",
       "\n",
       "   unixReviewTime  \n",
       "0      1399248000  \n",
       "1      1388966400  \n",
       "2      1396569600  \n",
       "3      1392768000  \n",
       "4      1395187200  "
      ]
     },
     "execution_count": 72,
     "metadata": {},
     "output_type": "execute_result"
    }
   ],
   "source": [
    "data.head()"
   ]
  },
  {
   "cell_type": "code",
   "execution_count": 73,
   "metadata": {},
   "outputs": [],
   "source": [
    "#assigning 50000 rows to data\n",
    "data=data.head(1000)"
   ]
  },
  {
   "cell_type": "code",
   "execution_count": 74,
   "metadata": {},
   "outputs": [
    {
     "data": {
      "text/plain": [
       "id                False\n",
       "asin              False\n",
       "helpful           False\n",
       "overall           False\n",
       "reviewText        False\n",
       "reviewTime        False\n",
       "reviewerID        False\n",
       "reviewerName       True\n",
       "summary           False\n",
       "unixReviewTime    False\n",
       "dtype: bool"
      ]
     },
     "execution_count": 74,
     "metadata": {},
     "output_type": "execute_result"
    }
   ],
   "source": [
    "#checking for null values\n",
    "data.isnull().any()"
   ]
  },
  {
   "cell_type": "code",
   "execution_count": 75,
   "metadata": {},
   "outputs": [
    {
     "data": {
      "text/plain": [
       "id                0\n",
       "asin              0\n",
       "helpful           0\n",
       "overall           0\n",
       "reviewText        0\n",
       "reviewTime        0\n",
       "reviewerID        0\n",
       "reviewerName      2\n",
       "summary           0\n",
       "unixReviewTime    0\n",
       "dtype: int64"
      ]
     },
     "execution_count": 75,
     "metadata": {},
     "output_type": "execute_result"
    }
   ],
   "source": [
    "data.isnull().sum()"
   ]
  },
  {
   "cell_type": "code",
   "execution_count": 76,
   "metadata": {},
   "outputs": [],
   "source": [
    "#deleting or dropping the unwanted columns from the dataset\n",
    "del data['id']\n",
    "del data['asin']\n",
    "del data['helpful']\n",
    "del data['reviewTime']\n",
    "del data['reviewerID']\n",
    "del data['reviewerName']\n",
    "del data['unixReviewTime']"
   ]
  },
  {
   "cell_type": "code",
   "execution_count": 77,
   "metadata": {
    "scrolled": true
   },
   "outputs": [
    {
     "data": {
      "text/html": [
       "<div>\n",
       "<style scoped>\n",
       "    .dataframe tbody tr th:only-of-type {\n",
       "        vertical-align: middle;\n",
       "    }\n",
       "\n",
       "    .dataframe tbody tr th {\n",
       "        vertical-align: top;\n",
       "    }\n",
       "\n",
       "    .dataframe thead th {\n",
       "        text-align: right;\n",
       "    }\n",
       "</style>\n",
       "<table border=\"1\" class=\"dataframe\">\n",
       "  <thead>\n",
       "    <tr style=\"text-align: right;\">\n",
       "      <th></th>\n",
       "      <th>overall</th>\n",
       "      <th>reviewText</th>\n",
       "      <th>summary</th>\n",
       "    </tr>\n",
       "  </thead>\n",
       "  <tbody>\n",
       "    <tr>\n",
       "      <th>0</th>\n",
       "      <td>5</td>\n",
       "      <td>I enjoy vintage books and movies so I enjoyed ...</td>\n",
       "      <td>Nice vintage story</td>\n",
       "    </tr>\n",
       "    <tr>\n",
       "      <th>1</th>\n",
       "      <td>4</td>\n",
       "      <td>This book is a reissue of an old one; the auth...</td>\n",
       "      <td>Different...</td>\n",
       "    </tr>\n",
       "    <tr>\n",
       "      <th>2</th>\n",
       "      <td>4</td>\n",
       "      <td>This was a fairly interesting read.  It had ol...</td>\n",
       "      <td>Oldie</td>\n",
       "    </tr>\n",
       "    <tr>\n",
       "      <th>3</th>\n",
       "      <td>5</td>\n",
       "      <td>I'd never read any of the Amy Brewster mysteri...</td>\n",
       "      <td>I really liked it.</td>\n",
       "    </tr>\n",
       "    <tr>\n",
       "      <th>4</th>\n",
       "      <td>4</td>\n",
       "      <td>If you like period pieces - clothing, lingo, y...</td>\n",
       "      <td>Period Mystery</td>\n",
       "    </tr>\n",
       "    <tr>\n",
       "      <th>5</th>\n",
       "      <td>4</td>\n",
       "      <td>A beautiful in-depth character description mak...</td>\n",
       "      <td>Review</td>\n",
       "    </tr>\n",
       "    <tr>\n",
       "      <th>6</th>\n",
       "      <td>4</td>\n",
       "      <td>I enjoyed this one tho I'm not sure why it's c...</td>\n",
       "      <td>Nice old fashioned story</td>\n",
       "    </tr>\n",
       "    <tr>\n",
       "      <th>7</th>\n",
       "      <td>4</td>\n",
       "      <td>Never heard of Amy Brewster. But I don't need ...</td>\n",
       "      <td>Enjoyable reading and reminding the old times</td>\n",
       "    </tr>\n",
       "    <tr>\n",
       "      <th>8</th>\n",
       "      <td>5</td>\n",
       "      <td>Darth Maul working under cloak of darkness com...</td>\n",
       "      <td>Darth Maul</td>\n",
       "    </tr>\n",
       "    <tr>\n",
       "      <th>9</th>\n",
       "      <td>4</td>\n",
       "      <td>This is a short story focused on Darth Maul's ...</td>\n",
       "      <td>Not bad, not exceptional</td>\n",
       "    </tr>\n",
       "  </tbody>\n",
       "</table>\n",
       "</div>"
      ],
      "text/plain": [
       "   overall                                         reviewText  \\\n",
       "0        5  I enjoy vintage books and movies so I enjoyed ...   \n",
       "1        4  This book is a reissue of an old one; the auth...   \n",
       "2        4  This was a fairly interesting read.  It had ol...   \n",
       "3        5  I'd never read any of the Amy Brewster mysteri...   \n",
       "4        4  If you like period pieces - clothing, lingo, y...   \n",
       "5        4  A beautiful in-depth character description mak...   \n",
       "6        4  I enjoyed this one tho I'm not sure why it's c...   \n",
       "7        4  Never heard of Amy Brewster. But I don't need ...   \n",
       "8        5  Darth Maul working under cloak of darkness com...   \n",
       "9        4  This is a short story focused on Darth Maul's ...   \n",
       "\n",
       "                                         summary  \n",
       "0                             Nice vintage story  \n",
       "1                                   Different...  \n",
       "2                                          Oldie  \n",
       "3                             I really liked it.  \n",
       "4                                 Period Mystery  \n",
       "5                                         Review  \n",
       "6                       Nice old fashioned story  \n",
       "7  Enjoyable reading and reminding the old times  \n",
       "8                                     Darth Maul  \n",
       "9                       Not bad, not exceptional  "
      ]
     },
     "execution_count": 77,
     "metadata": {},
     "output_type": "execute_result"
    }
   ],
   "source": [
    "#first 10 rows of data\n",
    "data.head(10)"
   ]
  },
  {
   "cell_type": "code",
   "execution_count": 78,
   "metadata": {},
   "outputs": [
    {
     "data": {
      "text/plain": [
       "5    503\n",
       "4    261\n",
       "3    140\n",
       "2     53\n",
       "1     43\n",
       "Name: overall, dtype: int64"
      ]
     },
     "execution_count": 78,
     "metadata": {},
     "output_type": "execute_result"
    }
   ],
   "source": [
    "#checking value counts\n",
    "data.overall.value_counts()"
   ]
  },
  {
   "cell_type": "code",
   "execution_count": 79,
   "metadata": {},
   "outputs": [
    {
     "data": {
      "text/plain": [
       "overall       0\n",
       "reviewText    0\n",
       "summary       0\n",
       "dtype: int64"
      ]
     },
     "execution_count": 79,
     "metadata": {},
     "output_type": "execute_result"
    }
   ],
   "source": [
    "#check the null values\n",
    "data.isna().sum()"
   ]
  },
  {
   "cell_type": "code",
   "execution_count": 80,
   "metadata": {},
   "outputs": [
    {
     "data": {
      "text/plain": [
       "0                   Nice vintage story\n",
       "1                         Different...\n",
       "2                                Oldie\n",
       "3                   I really liked it.\n",
       "4                       Period Mystery\n",
       "                    ...               \n",
       "995                         Good Story\n",
       "996    A most  fun out of season read.\n",
       "997            A Christmas nutcracker!\n",
       "998                Very disappointing!\n",
       "999                              Funny\n",
       "Name: summary, Length: 1000, dtype: object"
      ]
     },
     "execution_count": 80,
     "metadata": {},
     "output_type": "execute_result"
    }
   ],
   "source": [
    "data['summary']"
   ]
  },
  {
   "cell_type": "code",
   "execution_count": 81,
   "metadata": {},
   "outputs": [],
   "source": [
    "#joining review description and summary into one col\n",
    "data['reviewText']=data['reviewText']+\" \"+data['summary']"
   ]
  },
  {
   "cell_type": "code",
   "execution_count": 82,
   "metadata": {},
   "outputs": [],
   "source": [
    "data.drop(['summary'],axis=1,inplace=True)"
   ]
  },
  {
   "cell_type": "code",
   "execution_count": 83,
   "metadata": {},
   "outputs": [
    {
     "data": {
      "text/html": [
       "<div>\n",
       "<style scoped>\n",
       "    .dataframe tbody tr th:only-of-type {\n",
       "        vertical-align: middle;\n",
       "    }\n",
       "\n",
       "    .dataframe tbody tr th {\n",
       "        vertical-align: top;\n",
       "    }\n",
       "\n",
       "    .dataframe thead th {\n",
       "        text-align: right;\n",
       "    }\n",
       "</style>\n",
       "<table border=\"1\" class=\"dataframe\">\n",
       "  <thead>\n",
       "    <tr style=\"text-align: right;\">\n",
       "      <th></th>\n",
       "      <th>overall</th>\n",
       "      <th>reviewText</th>\n",
       "    </tr>\n",
       "  </thead>\n",
       "  <tbody>\n",
       "    <tr>\n",
       "      <th>0</th>\n",
       "      <td>5</td>\n",
       "      <td>I enjoy vintage books and movies so I enjoyed ...</td>\n",
       "    </tr>\n",
       "    <tr>\n",
       "      <th>1</th>\n",
       "      <td>4</td>\n",
       "      <td>This book is a reissue of an old one; the auth...</td>\n",
       "    </tr>\n",
       "    <tr>\n",
       "      <th>2</th>\n",
       "      <td>4</td>\n",
       "      <td>This was a fairly interesting read.  It had ol...</td>\n",
       "    </tr>\n",
       "    <tr>\n",
       "      <th>3</th>\n",
       "      <td>5</td>\n",
       "      <td>I'd never read any of the Amy Brewster mysteri...</td>\n",
       "    </tr>\n",
       "    <tr>\n",
       "      <th>4</th>\n",
       "      <td>4</td>\n",
       "      <td>If you like period pieces - clothing, lingo, y...</td>\n",
       "    </tr>\n",
       "  </tbody>\n",
       "</table>\n",
       "</div>"
      ],
      "text/plain": [
       "   overall                                         reviewText\n",
       "0        5  I enjoy vintage books and movies so I enjoyed ...\n",
       "1        4  This book is a reissue of an old one; the auth...\n",
       "2        4  This was a fairly interesting read.  It had ol...\n",
       "3        5  I'd never read any of the Amy Brewster mysteri...\n",
       "4        4  If you like period pieces - clothing, lingo, y..."
      ]
     },
     "execution_count": 83,
     "metadata": {},
     "output_type": "execute_result"
    }
   ],
   "source": [
    "data.head()"
   ]
  },
  {
   "cell_type": "code",
   "execution_count": 84,
   "metadata": {},
   "outputs": [
    {
     "data": {
      "text/plain": [
       "overall       0\n",
       "reviewText    0\n",
       "dtype: int64"
      ]
     },
     "execution_count": 84,
     "metadata": {},
     "output_type": "execute_result"
    }
   ],
   "source": [
    "#checking for null values\n",
    "data.isna().sum()"
   ]
  },
  {
   "cell_type": "code",
   "execution_count": 85,
   "metadata": {},
   "outputs": [],
   "source": [
    "#since there is only one null value, replace it with blank space\n",
    "data['reviewText'].fillna(\"\",inplace = True)"
   ]
  },
  {
   "cell_type": "code",
   "execution_count": 86,
   "metadata": {},
   "outputs": [],
   "source": [
    "#Grouping the overall rating of scale 1-5 to 2 categories\n",
    "def review_sentiment(rating):\n",
    "    #0(positive) and  with 1(negative) \n",
    "    if(rating == 5 or rating == 4 or rating==3):\n",
    "        return 0\n",
    "    else:\n",
    "        return 1"
   ]
  },
  {
   "cell_type": "code",
   "execution_count": 87,
   "metadata": {},
   "outputs": [],
   "source": [
    "data.overall = data.overall.apply(review_sentiment)"
   ]
  },
  {
   "cell_type": "code",
   "execution_count": 88,
   "metadata": {},
   "outputs": [
    {
     "data": {
      "text/plain": [
       "0    904\n",
       "1     96\n",
       "Name: overall, dtype: int64"
      ]
     },
     "execution_count": 88,
     "metadata": {},
     "output_type": "execute_result"
    }
   ],
   "source": [
    "data.overall.value_counts()"
   ]
  },
  {
   "cell_type": "code",
   "execution_count": 89,
   "metadata": {
    "scrolled": true
   },
   "outputs": [
    {
     "data": {
      "text/html": [
       "<div>\n",
       "<style scoped>\n",
       "    .dataframe tbody tr th:only-of-type {\n",
       "        vertical-align: middle;\n",
       "    }\n",
       "\n",
       "    .dataframe tbody tr th {\n",
       "        vertical-align: top;\n",
       "    }\n",
       "\n",
       "    .dataframe thead th {\n",
       "        text-align: right;\n",
       "    }\n",
       "</style>\n",
       "<table border=\"1\" class=\"dataframe\">\n",
       "  <thead>\n",
       "    <tr style=\"text-align: right;\">\n",
       "      <th></th>\n",
       "      <th>overall</th>\n",
       "      <th>reviewText</th>\n",
       "    </tr>\n",
       "  </thead>\n",
       "  <tbody>\n",
       "    <tr>\n",
       "      <th>0</th>\n",
       "      <td>0</td>\n",
       "      <td>I enjoy vintage books and movies so I enjoyed ...</td>\n",
       "    </tr>\n",
       "    <tr>\n",
       "      <th>1</th>\n",
       "      <td>0</td>\n",
       "      <td>This book is a reissue of an old one; the auth...</td>\n",
       "    </tr>\n",
       "    <tr>\n",
       "      <th>2</th>\n",
       "      <td>0</td>\n",
       "      <td>This was a fairly interesting read.  It had ol...</td>\n",
       "    </tr>\n",
       "    <tr>\n",
       "      <th>3</th>\n",
       "      <td>0</td>\n",
       "      <td>I'd never read any of the Amy Brewster mysteri...</td>\n",
       "    </tr>\n",
       "    <tr>\n",
       "      <th>4</th>\n",
       "      <td>0</td>\n",
       "      <td>If you like period pieces - clothing, lingo, y...</td>\n",
       "    </tr>\n",
       "    <tr>\n",
       "      <th>5</th>\n",
       "      <td>0</td>\n",
       "      <td>A beautiful in-depth character description mak...</td>\n",
       "    </tr>\n",
       "    <tr>\n",
       "      <th>6</th>\n",
       "      <td>0</td>\n",
       "      <td>I enjoyed this one tho I'm not sure why it's c...</td>\n",
       "    </tr>\n",
       "    <tr>\n",
       "      <th>7</th>\n",
       "      <td>0</td>\n",
       "      <td>Never heard of Amy Brewster. But I don't need ...</td>\n",
       "    </tr>\n",
       "    <tr>\n",
       "      <th>8</th>\n",
       "      <td>0</td>\n",
       "      <td>Darth Maul working under cloak of darkness com...</td>\n",
       "    </tr>\n",
       "    <tr>\n",
       "      <th>9</th>\n",
       "      <td>0</td>\n",
       "      <td>This is a short story focused on Darth Maul's ...</td>\n",
       "    </tr>\n",
       "    <tr>\n",
       "      <th>10</th>\n",
       "      <td>0</td>\n",
       "      <td>I think I have this one in both book and audio...</td>\n",
       "    </tr>\n",
       "    <tr>\n",
       "      <th>11</th>\n",
       "      <td>0</td>\n",
       "      <td>Title has nothing to do with the story.  I did...</td>\n",
       "    </tr>\n",
       "    <tr>\n",
       "      <th>12</th>\n",
       "      <td>0</td>\n",
       "      <td>Well written. Interesting to see Sideous (thro...</td>\n",
       "    </tr>\n",
       "    <tr>\n",
       "      <th>13</th>\n",
       "      <td>0</td>\n",
       "      <td>Troy Denning's novella Recovery was originally...</td>\n",
       "    </tr>\n",
       "    <tr>\n",
       "      <th>14</th>\n",
       "      <td>0</td>\n",
       "      <td>I am not for sure on how much of a difference ...</td>\n",
       "    </tr>\n",
       "    <tr>\n",
       "      <th>15</th>\n",
       "      <td>0</td>\n",
       "      <td>I really enjoyed the book. Had the normal back...</td>\n",
       "    </tr>\n",
       "    <tr>\n",
       "      <th>16</th>\n",
       "      <td>0</td>\n",
       "      <td>Great read enjoyed every minute of it .  I thi...</td>\n",
       "    </tr>\n",
       "    <tr>\n",
       "      <th>17</th>\n",
       "      <td>0</td>\n",
       "      <td>Another well written eBook by Troy Denning, bu...</td>\n",
       "    </tr>\n",
       "    <tr>\n",
       "      <th>18</th>\n",
       "      <td>0</td>\n",
       "      <td>This one promises to be another good book. I h...</td>\n",
       "    </tr>\n",
       "    <tr>\n",
       "      <th>19</th>\n",
       "      <td>0</td>\n",
       "      <td>I have a version of \"Star by Star\" that does n...</td>\n",
       "    </tr>\n",
       "    <tr>\n",
       "      <th>20</th>\n",
       "      <td>0</td>\n",
       "      <td>Excellent! Very well written story, very excit...</td>\n",
       "    </tr>\n",
       "    <tr>\n",
       "      <th>21</th>\n",
       "      <td>1</td>\n",
       "      <td>With Ylesia, a novella originally published in...</td>\n",
       "    </tr>\n",
       "    <tr>\n",
       "      <th>22</th>\n",
       "      <td>0</td>\n",
       "      <td>Great book couldn't put it down.  The story ex...</td>\n",
       "    </tr>\n",
       "    <tr>\n",
       "      <th>23</th>\n",
       "      <td>0</td>\n",
       "      <td>Most of the New Jedi Order books focus on the ...</td>\n",
       "    </tr>\n",
       "    <tr>\n",
       "      <th>24</th>\n",
       "      <td>0</td>\n",
       "      <td>I was hoping to find this one in book form. Th...</td>\n",
       "    </tr>\n",
       "    <tr>\n",
       "      <th>25</th>\n",
       "      <td>0</td>\n",
       "      <td>The events of \"Ylesia\" take place during \"Dest...</td>\n",
       "    </tr>\n",
       "    <tr>\n",
       "      <th>26</th>\n",
       "      <td>0</td>\n",
       "      <td>Really shouldn't have Han Solo on the cover as...</td>\n",
       "    </tr>\n",
       "    <tr>\n",
       "      <th>27</th>\n",
       "      <td>0</td>\n",
       "      <td>Originally published as an e-book coinciding w...</td>\n",
       "    </tr>\n",
       "    <tr>\n",
       "      <th>28</th>\n",
       "      <td>0</td>\n",
       "      <td>This book was a good idea. I have always wante...</td>\n",
       "    </tr>\n",
       "    <tr>\n",
       "      <th>29</th>\n",
       "      <td>0</td>\n",
       "      <td>Great short story. It gives a little more insi...</td>\n",
       "    </tr>\n",
       "    <tr>\n",
       "      <th>30</th>\n",
       "      <td>0</td>\n",
       "      <td>I love anything with Chewbacca in it.  Him and...</td>\n",
       "    </tr>\n",
       "    <tr>\n",
       "      <th>31</th>\n",
       "      <td>0</td>\n",
       "      <td>A great little chapter to read on my Kindle, b...</td>\n",
       "    </tr>\n",
       "    <tr>\n",
       "      <th>32</th>\n",
       "      <td>0</td>\n",
       "      <td>I love the stories with Chewie in them! this e...</td>\n",
       "    </tr>\n",
       "    <tr>\n",
       "      <th>33</th>\n",
       "      <td>0</td>\n",
       "      <td>I'm not really sure where it actually fits int...</td>\n",
       "    </tr>\n",
       "    <tr>\n",
       "      <th>34</th>\n",
       "      <td>0</td>\n",
       "      <td>I really do enjoy Troy Denning's work, I want ...</td>\n",
       "    </tr>\n",
       "    <tr>\n",
       "      <th>35</th>\n",
       "      <td>0</td>\n",
       "      <td>Timothy Zahn's Fool's Bargain is a short story...</td>\n",
       "    </tr>\n",
       "    <tr>\n",
       "      <th>36</th>\n",
       "      <td>0</td>\n",
       "      <td>Not too bad, an intro-short-story for some big...</td>\n",
       "    </tr>\n",
       "    <tr>\n",
       "      <th>37</th>\n",
       "      <td>0</td>\n",
       "      <td>I absolutely love this book. Though it is shor...</td>\n",
       "    </tr>\n",
       "    <tr>\n",
       "      <th>38</th>\n",
       "      <td>0</td>\n",
       "      <td>What can I say Stormtroopers.  A story with tr...</td>\n",
       "    </tr>\n",
       "    <tr>\n",
       "      <th>39</th>\n",
       "      <td>1</td>\n",
       "      <td>For whatever reason, Star Wars short stories a...</td>\n",
       "    </tr>\n",
       "    <tr>\n",
       "      <th>40</th>\n",
       "      <td>0</td>\n",
       "      <td>As an ebook it reads very well on my Kindle, b...</td>\n",
       "    </tr>\n",
       "    <tr>\n",
       "      <th>41</th>\n",
       "      <td>0</td>\n",
       "      <td>** Note: this story appears as a bonus in the ...</td>\n",
       "    </tr>\n",
       "    <tr>\n",
       "      <th>42</th>\n",
       "      <td>1</td>\n",
       "      <td>I admit it, I snapped this up the moment I saw...</td>\n",
       "    </tr>\n",
       "    <tr>\n",
       "      <th>43</th>\n",
       "      <td>0</td>\n",
       "      <td>I love Timothy Zahn's work!  He does what no o...</td>\n",
       "    </tr>\n",
       "    <tr>\n",
       "      <th>44</th>\n",
       "      <td>0</td>\n",
       "      <td>The hero in this story has been living in NYC ...</td>\n",
       "    </tr>\n",
       "    <tr>\n",
       "      <th>45</th>\n",
       "      <td>0</td>\n",
       "      <td>The Iron Marshall, by Louie L`Amour is one of ...</td>\n",
       "    </tr>\n",
       "    <tr>\n",
       "      <th>46</th>\n",
       "      <td>0</td>\n",
       "      <td>This is yet another  L'Amour winner. I have ye...</td>\n",
       "    </tr>\n",
       "    <tr>\n",
       "      <th>47</th>\n",
       "      <td>0</td>\n",
       "      <td>I almost didn't get this book because of the c...</td>\n",
       "    </tr>\n",
       "    <tr>\n",
       "      <th>48</th>\n",
       "      <td>0</td>\n",
       "      <td>This story by Louis L'Amour was the very first...</td>\n",
       "    </tr>\n",
       "    <tr>\n",
       "      <th>49</th>\n",
       "      <td>0</td>\n",
       "      <td>This is how it was in the big gambling and cor...</td>\n",
       "    </tr>\n",
       "  </tbody>\n",
       "</table>\n",
       "</div>"
      ],
      "text/plain": [
       "    overall                                         reviewText\n",
       "0         0  I enjoy vintage books and movies so I enjoyed ...\n",
       "1         0  This book is a reissue of an old one; the auth...\n",
       "2         0  This was a fairly interesting read.  It had ol...\n",
       "3         0  I'd never read any of the Amy Brewster mysteri...\n",
       "4         0  If you like period pieces - clothing, lingo, y...\n",
       "5         0  A beautiful in-depth character description mak...\n",
       "6         0  I enjoyed this one tho I'm not sure why it's c...\n",
       "7         0  Never heard of Amy Brewster. But I don't need ...\n",
       "8         0  Darth Maul working under cloak of darkness com...\n",
       "9         0  This is a short story focused on Darth Maul's ...\n",
       "10        0  I think I have this one in both book and audio...\n",
       "11        0  Title has nothing to do with the story.  I did...\n",
       "12        0  Well written. Interesting to see Sideous (thro...\n",
       "13        0  Troy Denning's novella Recovery was originally...\n",
       "14        0  I am not for sure on how much of a difference ...\n",
       "15        0  I really enjoyed the book. Had the normal back...\n",
       "16        0  Great read enjoyed every minute of it .  I thi...\n",
       "17        0  Another well written eBook by Troy Denning, bu...\n",
       "18        0  This one promises to be another good book. I h...\n",
       "19        0  I have a version of \"Star by Star\" that does n...\n",
       "20        0  Excellent! Very well written story, very excit...\n",
       "21        1  With Ylesia, a novella originally published in...\n",
       "22        0  Great book couldn't put it down.  The story ex...\n",
       "23        0  Most of the New Jedi Order books focus on the ...\n",
       "24        0  I was hoping to find this one in book form. Th...\n",
       "25        0  The events of \"Ylesia\" take place during \"Dest...\n",
       "26        0  Really shouldn't have Han Solo on the cover as...\n",
       "27        0  Originally published as an e-book coinciding w...\n",
       "28        0  This book was a good idea. I have always wante...\n",
       "29        0  Great short story. It gives a little more insi...\n",
       "30        0  I love anything with Chewbacca in it.  Him and...\n",
       "31        0  A great little chapter to read on my Kindle, b...\n",
       "32        0  I love the stories with Chewie in them! this e...\n",
       "33        0  I'm not really sure where it actually fits int...\n",
       "34        0  I really do enjoy Troy Denning's work, I want ...\n",
       "35        0  Timothy Zahn's Fool's Bargain is a short story...\n",
       "36        0  Not too bad, an intro-short-story for some big...\n",
       "37        0  I absolutely love this book. Though it is shor...\n",
       "38        0  What can I say Stormtroopers.  A story with tr...\n",
       "39        1  For whatever reason, Star Wars short stories a...\n",
       "40        0  As an ebook it reads very well on my Kindle, b...\n",
       "41        0  ** Note: this story appears as a bonus in the ...\n",
       "42        1  I admit it, I snapped this up the moment I saw...\n",
       "43        0  I love Timothy Zahn's work!  He does what no o...\n",
       "44        0  The hero in this story has been living in NYC ...\n",
       "45        0  The Iron Marshall, by Louie L`Amour is one of ...\n",
       "46        0  This is yet another  L'Amour winner. I have ye...\n",
       "47        0  I almost didn't get this book because of the c...\n",
       "48        0  This story by Louis L'Amour was the very first...\n",
       "49        0  This is how it was in the big gambling and cor..."
      ]
     },
     "execution_count": 89,
     "metadata": {},
     "output_type": "execute_result"
    }
   ],
   "source": [
    "data.head(50)"
   ]
  },
  {
   "cell_type": "code",
   "execution_count": 90,
   "metadata": {},
   "outputs": [
    {
     "data": {
      "text/plain": [
       "1000"
      ]
     },
     "execution_count": 90,
     "metadata": {},
     "output_type": "execute_result"
    }
   ],
   "source": [
    "len(list(data['overall']))"
   ]
  },
  {
   "cell_type": "code",
   "execution_count": 91,
   "metadata": {},
   "outputs": [],
   "source": [
    "#split the data into x(independent variable)\n",
    "x=data.iloc[:,1].values"
   ]
  },
  {
   "cell_type": "code",
   "execution_count": 92,
   "metadata": {},
   "outputs": [],
   "source": [
    "#import natural language toolkit\n",
    "import nltk\n",
    "#import stopwords library to remove stopwords\n",
    "from nltk.corpus import stopwords\n",
    "#library used for stem the words\n",
    "from nltk.stem.porter import PorterStemmer\n",
    "#create an object for stemming\n",
    "ps = PorterStemmer()\n",
    "#library used for stem the words\n",
    "from nltk.stem import WordNetLemmatizer\n",
    "#create an object for wordnet lemmatizer\n",
    "wordnet=WordNetLemmatizer()"
   ]
  },
  {
   "cell_type": "code",
   "execution_count": 93,
   "metadata": {},
   "outputs": [
    {
     "name": "stderr",
     "output_type": "stream",
     "text": [
      "[nltk_data] Downloading package wordnet to C:\\Users\\SREE\n",
      "[nltk_data]     VARSHAN\\AppData\\Roaming\\nltk_data...\n",
      "[nltk_data]   Package wordnet is already up-to-date!\n"
     ]
    },
    {
     "data": {
      "text/plain": [
       "True"
      ]
     },
     "execution_count": 93,
     "metadata": {},
     "output_type": "execute_result"
    }
   ],
   "source": [
    "nltk.download('wordnet')"
   ]
  },
  {
   "cell_type": "code",
   "execution_count": 94,
   "metadata": {},
   "outputs": [],
   "source": [
    "import re\n",
    "# Initialize empty array to append clean text  \n",
    "corpus=[]\n",
    "# no of rows to clean \n",
    "for i in range(len(x)):\n",
    "    #replacing punctuations and numbers using re library \n",
    "    temp=re.sub('[^a-zA-Z]',' ',x[i])\n",
    "    # convert all text to lower cases\n",
    "    temp=temp.lower()\n",
    "    # split to array(default delimiter is \" \") \n",
    "    temp=temp.split()\n",
    "    # creating WordNetLemmatizer object to take main lemma of each word\n",
    "    wordnet = WordNetLemmatizer()\n",
    "    #loop for leammatization each word in string array at ith row \n",
    "    temp=[wordnet.lemmatize(word) for word in temp if not word in set(\n",
    "        stopwords.words('english'))]\n",
    "    #rejoin all string array elements to create back into a string \n",
    "    temp=' '.join(temp)\n",
    "#append each string to create array of clean text \n",
    "    corpus.append(temp)"
   ]
  },
  {
   "cell_type": "code",
   "execution_count": 110,
   "metadata": {},
   "outputs": [],
   "source": [
    "#creating bag of word model\n",
    "from sklearn.feature_extraction.text import CountVectorizer\n",
    "#To extract max feature, \"max_features\" is attribute to \n",
    "#experiment with to get better results\n",
    "cv=CountVectorizer(max_features= 6000)\n",
    "#z contains vectorized data (independent variable) \n",
    "x=cv.fit_transform(corpus).toarray()"
   ]
  },
  {
   "cell_type": "code",
   "execution_count": 111,
   "metadata": {},
   "outputs": [
    {
     "data": {
      "text/plain": [
       "['amazo.save']"
      ]
     },
     "execution_count": 111,
     "metadata": {},
     "output_type": "execute_result"
    }
   ],
   "source": [
    "#save bag of word model\n",
    "import joblib\n",
    "joblib.dump(cv.vocabulary_,\"amazo.save\")"
   ]
  },
  {
   "cell_type": "code",
   "execution_count": 97,
   "metadata": {},
   "outputs": [
    {
     "data": {
      "text/plain": [
       "array([0, 0, 0, 0, 0, 0, 0, 0, 0, 0, 0, 0, 0, 0, 0, 0, 0, 0, 0, 0, 0, 1,\n",
       "       0, 0, 0, 0, 0, 0, 0, 0, 0, 0, 0, 0, 0, 0, 0, 0, 0, 1, 0, 0, 1, 0,\n",
       "       0, 0, 0, 0, 0, 0, 0, 0, 0, 0, 0, 0, 0, 0, 0, 0, 0, 0, 0, 0, 1, 1,\n",
       "       1, 1, 0, 0, 1, 1, 1, 1, 0, 0, 1, 0, 0, 1, 0, 1, 0, 0, 0, 0, 1, 1,\n",
       "       0, 0, 0, 0, 0, 0, 0, 0, 0, 0, 0, 0, 1, 0, 0, 0, 0, 0, 1, 0, 1, 0,\n",
       "       0, 0, 0, 0, 0, 0, 0, 0, 0, 1, 0, 0, 1, 0, 0, 0, 1, 0, 0, 0, 0, 0,\n",
       "       0, 0, 0, 0, 0, 0, 0, 0, 0, 1, 0, 0, 0, 0, 1, 0, 0, 0, 0, 0, 0, 0,\n",
       "       0, 1, 0, 0, 0, 0, 0, 0, 0, 1, 0, 0, 1, 0, 0, 0, 1, 1, 0, 0, 1, 0,\n",
       "       0, 0, 0, 0, 0, 0, 0, 0, 0, 0, 0, 0, 0, 0, 0, 0, 0, 0, 0, 0, 0, 0,\n",
       "       0, 0, 0, 0, 0, 1, 0, 0, 0, 0, 0, 0, 0, 0, 0, 0, 0, 0, 0, 0, 0, 0,\n",
       "       0, 0, 0, 0, 0, 0, 0, 0, 0, 0, 0, 0, 0, 0, 0, 0, 0, 0, 0, 0, 0, 0,\n",
       "       0, 0, 0, 0, 0, 0, 0, 0, 0, 1, 0, 0, 0, 0, 0, 0, 0, 0, 0, 1, 0, 0,\n",
       "       0, 0, 0, 0, 0, 0, 0, 1, 0, 0, 0, 0, 0, 0, 0, 0, 0, 0, 0, 0, 0, 0,\n",
       "       0, 0, 0, 0, 0, 0, 0, 0, 0, 0, 0, 0, 0, 0, 0, 0, 0, 0, 0, 1, 0, 1,\n",
       "       0, 0, 0, 0, 0, 0, 0, 0, 0, 0, 0, 0, 0, 0, 1, 0, 0, 0, 0, 0, 0, 0,\n",
       "       0, 0, 0, 0, 0, 0, 0, 0, 0, 0, 0, 1, 0, 0, 0, 0, 0, 0, 0, 0, 0, 0,\n",
       "       1, 0, 0, 0, 0, 0, 0, 0, 0, 0, 1, 0, 0, 0, 0, 0, 0, 1, 0, 0, 0, 0,\n",
       "       0, 0, 0, 0, 0, 0, 0, 0, 0, 0, 0, 0, 0, 0, 0, 0, 0, 0, 0, 0, 0, 0,\n",
       "       0, 0, 1, 1, 0, 0, 0, 0, 0, 0, 0, 0, 0, 0, 0, 0, 0, 0, 0, 0, 0, 0,\n",
       "       1, 0, 0, 0, 0, 0, 0, 0, 0, 0, 0, 0, 1, 0, 0, 0, 1, 1, 0, 1, 0, 0,\n",
       "       0, 0, 0, 0, 0, 0, 0, 0, 0, 0, 0, 0, 1, 0, 0, 0, 0, 0, 0, 0, 0, 0,\n",
       "       0, 0, 0, 0, 0, 0, 0, 0, 0, 0, 0, 0, 0, 0, 0, 0, 0, 0, 0, 0, 0, 0,\n",
       "       0, 0, 1, 0, 0, 0, 0, 0, 0, 0, 0, 0, 1, 0, 0, 0, 0, 0, 0, 0, 0, 0,\n",
       "       0, 0, 0, 0, 0, 0, 0, 0, 0, 1, 0, 0, 0, 0, 0, 0, 0, 0, 0, 0, 0, 1,\n",
       "       0, 0, 0, 1, 0, 0, 0, 0, 0, 0, 1, 0, 0, 1, 0, 0, 0, 0, 0, 0, 1, 0,\n",
       "       0, 0, 0, 0, 1, 0, 0, 0, 0, 0, 0, 0, 1, 0, 0, 0, 0, 0, 0, 0, 0, 0,\n",
       "       0, 0, 0, 1, 0, 0, 1, 0, 0, 0, 0, 0, 1, 0, 0, 0, 0, 0, 0, 0, 0, 1,\n",
       "       0, 0, 0, 0, 0, 0, 0, 0, 0, 0, 0, 0, 0, 0, 1, 0, 0, 0, 1, 0, 0, 0,\n",
       "       0, 1, 0, 0, 0, 1, 0, 0, 0, 0, 0, 0, 0, 0, 0, 1, 0, 0, 0, 0, 1, 1,\n",
       "       0, 1, 0, 0, 0, 0, 0, 0, 0, 0, 0, 0, 0, 0, 1, 0, 0, 0, 0, 0, 0, 0,\n",
       "       0, 0, 0, 0, 0, 0, 0, 0, 0, 0, 0, 0, 0, 0, 0, 0, 0, 0, 0, 0, 0, 0,\n",
       "       0, 0, 0, 0, 0, 0, 0, 0, 0, 0, 0, 0, 0, 0, 0, 0, 0, 0, 1, 0, 0, 0,\n",
       "       0, 1, 1, 0, 0, 0, 0, 0, 0, 0, 0, 0, 0, 0, 0, 0, 1, 0, 0, 0, 0, 0,\n",
       "       0, 0, 0, 0, 0, 0, 0, 0, 0, 0, 0, 0, 0, 0, 0, 0, 0, 0, 0, 0, 0, 1,\n",
       "       0, 0, 0, 0, 0, 0, 0, 0, 0, 0, 0, 0, 0, 0, 0, 0, 0, 1, 0, 0, 0, 0,\n",
       "       0, 0, 0, 0, 0, 0, 0, 0, 0, 0, 0, 0, 0, 0, 0, 1, 0, 0, 0, 0, 0, 0,\n",
       "       0, 0, 0, 0, 0, 0, 0, 0, 0, 0, 0, 0, 0, 1, 0, 0, 0, 0, 0, 0, 0, 0,\n",
       "       0, 0, 0, 0, 1, 0, 0, 0, 0, 0, 0, 0, 0, 0, 0, 1, 0, 0, 0, 1, 0, 0,\n",
       "       0, 0, 1, 0, 0, 0, 0, 0, 0, 0, 0, 0, 0, 0, 0, 0, 0, 0, 0, 0, 0, 0,\n",
       "       0, 0, 0, 0, 0, 0, 0, 0, 0, 0, 0, 1, 0, 0, 0, 0, 0, 0, 0, 0, 0, 0,\n",
       "       0, 0, 0, 0, 0, 0, 0, 0, 1, 0, 0, 0, 0, 0, 0, 0, 0, 0, 0, 1, 0, 1,\n",
       "       0, 0, 0, 0, 0, 1, 0, 0, 0, 0, 0, 0, 1, 0, 0, 0, 1, 0, 0, 0, 0, 0,\n",
       "       0, 0, 0, 0, 0, 0, 0, 0, 0, 0, 0, 0, 0, 0, 0, 0, 0, 0, 0, 1, 0, 0,\n",
       "       0, 0, 0, 0, 0, 0, 0, 0, 0, 1, 0, 0, 0, 0, 0, 0, 0, 0, 0, 0, 0, 0,\n",
       "       0, 0, 0, 0, 0, 0, 0, 1, 0, 0, 0, 0, 0, 1, 0, 0, 0, 0, 0, 0, 0, 0,\n",
       "       0, 0, 0, 0, 0, 0, 0, 0, 1, 0], dtype=int64)"
      ]
     },
     "execution_count": 97,
     "metadata": {},
     "output_type": "execute_result"
    }
   ],
   "source": [
    "# y contains answers if review is positive or negative \n",
    "y=data.iloc[:,0].values\n",
    "y"
   ]
  },
  {
   "cell_type": "code",
   "execution_count": 112,
   "metadata": {},
   "outputs": [],
   "source": [
    "#split the data into train and test sets\n",
    "from sklearn.model_selection import train_test_split\n",
    "x_train,x_test,y_train,y_test=train_test_split(x,y,test_size=0.2,random_state=0)"
   ]
  },
  {
   "cell_type": "code",
   "execution_count": 113,
   "metadata": {},
   "outputs": [
    {
     "data": {
      "text/plain": [
       "(800, 6000)"
      ]
     },
     "execution_count": 113,
     "metadata": {},
     "output_type": "execute_result"
    }
   ],
   "source": [
    "#checking x_train shape\n",
    "x_train.shape"
   ]
  },
  {
   "cell_type": "code",
   "execution_count": 114,
   "metadata": {},
   "outputs": [
    {
     "data": {
      "text/plain": [
       "(800,)"
      ]
     },
     "execution_count": 114,
     "metadata": {},
     "output_type": "execute_result"
    }
   ],
   "source": [
    "#checking y_train shape\n",
    "y_train.shape"
   ]
  },
  {
   "cell_type": "code",
   "execution_count": 115,
   "metadata": {},
   "outputs": [
    {
     "data": {
      "text/plain": [
       "(200, 6000)"
      ]
     },
     "execution_count": 115,
     "metadata": {},
     "output_type": "execute_result"
    }
   ],
   "source": [
    "#checking x_test shape\n",
    "x_test.shape"
   ]
  },
  {
   "cell_type": "markdown",
   "metadata": {},
   "source": [
    "# ANN"
   ]
  },
  {
   "cell_type": "code",
   "execution_count": 116,
   "metadata": {},
   "outputs": [],
   "source": [
    "#import libraries\n",
    "import tensorflow\n",
    "import keras\n",
    "#import Sequential\n",
    "from tensorflow.keras.models import Sequential\n",
    "#import Dense\n",
    "from tensorflow.keras.layers import Dense"
   ]
  },
  {
   "cell_type": "code",
   "execution_count": 117,
   "metadata": {},
   "outputs": [
    {
     "name": "stdout",
     "output_type": "stream",
     "text": [
      "Epoch 1/20\n",
      "25/25 [==============================] - 6s 207ms/step - loss: 0.4665 - accuracy: 0.8863\n",
      "Epoch 2/20\n",
      "25/25 [==============================] - 5s 197ms/step - loss: 0.2226 - accuracy: 0.9050\n",
      "Epoch 3/20\n",
      "25/25 [==============================] - 5s 205ms/step - loss: 0.1205 - accuracy: 0.9050\n",
      "Epoch 4/20\n",
      "25/25 [==============================] - 6s 219ms/step - loss: 0.0841 - accuracy: 0.9050\n",
      "Epoch 5/20\n",
      "25/25 [==============================] - 6s 222ms/step - loss: 0.0724 - accuracy: 0.92503s\n",
      "Epoch 6/20\n",
      "25/25 [==============================] - 5s 197ms/step - loss: 0.0692 - accuracy: 0.9962\n",
      "Epoch 7/20\n",
      "25/25 [==============================] - 5s 197ms/step - loss: 0.0669 - accuracy: 0.99623s\n",
      "Epoch 8/20\n",
      "25/25 [==============================] - 9s 365ms/step - loss: 0.0654 - accuracy: 1.0000\n",
      "Epoch 9/20\n",
      "25/25 [==============================] - 5s 210ms/step - loss: 0.0644 - accuracy: 0.9987\n",
      "Epoch 10/20\n",
      "25/25 [==============================] - 5s 201ms/step - loss: 0.0637 - accuracy: 0.9987\n",
      "Epoch 11/20\n",
      "25/25 [==============================] - 5s 203ms/step - loss: 0.0628 - accuracy: 1.0000\n",
      "Epoch 12/20\n",
      "25/25 [==============================] - 5s 195ms/step - loss: 0.0618 - accuracy: 1.0000\n",
      "Epoch 13/20\n",
      "25/25 [==============================] - 5s 195ms/step - loss: 0.0611 - accuracy: 1.0000\n",
      "Epoch 14/20\n",
      "25/25 [==============================] - 5s 202ms/step - loss: 0.0603 - accuracy: 1.0000\n",
      "Epoch 15/20\n",
      "25/25 [==============================] - 6s 219ms/step - loss: 0.0596 - accuracy: 1.0000\n",
      "Epoch 16/20\n",
      "25/25 [==============================] - 6s 221ms/step - loss: 0.0588 - accuracy: 1.0000\n",
      "Epoch 17/20\n",
      "25/25 [==============================] - 5s 197ms/step - loss: 0.0580 - accuracy: 1.0000\n",
      "Epoch 18/20\n",
      "25/25 [==============================] - 5s 198ms/step - loss: 0.0573 - accuracy: 1.0000\n",
      "Epoch 19/20\n",
      "25/25 [==============================] - 5s 201ms/step - loss: 0.0565 - accuracy: 1.0000\n",
      "Epoch 20/20\n",
      "25/25 [==============================] - 5s 197ms/step - loss: 0.0558 - accuracy: 1.0000\n"
     ]
    },
    {
     "data": {
      "text/plain": [
       "<keras.callbacks.History at 0x230be5c8460>"
      ]
     },
     "execution_count": 117,
     "metadata": {},
     "output_type": "execute_result"
    }
   ],
   "source": [
    "#intialize the model\n",
    "model=Sequential()\n",
    "\n",
    "#adding input layer\n",
    "model.add(Dense(input_dim=6000,kernel_initializer='random_uniform',\n",
    "                activation='relu',units=6000))\n",
    "\n",
    "#adding hidden layer\n",
    "model.add(Dense(units=9,kernel_initializer='random_uniform',\n",
    "                activation='relu'))\n",
    "\n",
    "#adding output layer\n",
    "model.add(Dense(units=1,kernel_initializer='random_uniform',\n",
    "                activation='sigmoid'))\n",
    "\n",
    "#configure the learning process\n",
    "model.compile(optimizer='adam',loss='binary_crossentropy',\n",
    "              metrics=['accuracy'])\n",
    "\n",
    "#training the model\n",
    "model.fit(x_train,y_train,epochs=20,batch_size=32)"
   ]
  },
  {
   "cell_type": "code",
   "execution_count": 118,
   "metadata": {},
   "outputs": [],
   "source": [
    "#save the model\n",
    "model.save(\"amazo.h5\")"
   ]
  },
  {
   "cell_type": "code",
   "execution_count": 119,
   "metadata": {},
   "outputs": [],
   "source": [
    "ypred=model.predict(x_test)"
   ]
  },
  {
   "cell_type": "code",
   "execution_count": 120,
   "metadata": {
    "scrolled": true
   },
   "outputs": [
    {
     "data": {
      "text/plain": [
       "array([[5.11193576e-08],\n",
       "       [2.03015879e-05],\n",
       "       [5.13616204e-03],\n",
       "       [3.49376423e-05],\n",
       "       [5.25949857e-12],\n",
       "       [6.04659319e-04],\n",
       "       [5.01840019e-12],\n",
       "       [1.66255543e-08],\n",
       "       [1.23539567e-03],\n",
       "       [9.10663857e-07],\n",
       "       [3.90478772e-06],\n",
       "       [1.69722125e-10],\n",
       "       [9.50565626e-10],\n",
       "       [2.75332986e-05],\n",
       "       [1.25969052e-02],\n",
       "       [8.22753879e-11],\n",
       "       [4.26891435e-21],\n",
       "       [7.44023919e-03],\n",
       "       [4.33708119e-05],\n",
       "       [8.64474881e-11],\n",
       "       [7.40019386e-05],\n",
       "       [6.09297167e-05],\n",
       "       [7.97390938e-03],\n",
       "       [2.23982515e-05],\n",
       "       [6.54784162e-05],\n",
       "       [3.55059027e-09],\n",
       "       [4.43839729e-02],\n",
       "       [1.40896440e-03],\n",
       "       [1.66012760e-05],\n",
       "       [3.57687473e-04],\n",
       "       [3.87710333e-03],\n",
       "       [1.65492296e-04],\n",
       "       [7.40147807e-05],\n",
       "       [3.54290009e-04],\n",
       "       [4.58519708e-07],\n",
       "       [2.47874505e-05],\n",
       "       [5.69546632e-10],\n",
       "       [7.35934591e-05],\n",
       "       [4.33917046e-02],\n",
       "       [3.47292030e-06],\n",
       "       [8.05569760e-12],\n",
       "       [1.06157004e-05],\n",
       "       [1.25263817e-08],\n",
       "       [1.25744939e-03],\n",
       "       [2.22292542e-02],\n",
       "       [6.82815607e-06],\n",
       "       [1.86012387e-02],\n",
       "       [2.09271908e-04],\n",
       "       [3.19421291e-04],\n",
       "       [3.39483927e-06],\n",
       "       [1.39117241e-04],\n",
       "       [1.18733716e-07],\n",
       "       [2.04497576e-03],\n",
       "       [1.60632382e-10],\n",
       "       [1.62764316e-11],\n",
       "       [5.58155261e-06],\n",
       "       [2.35229731e-04],\n",
       "       [2.35675861e-06],\n",
       "       [3.73013563e-07],\n",
       "       [4.56022620e-02],\n",
       "       [6.23148680e-03],\n",
       "       [1.09170743e-13],\n",
       "       [8.64723120e-07],\n",
       "       [2.73206865e-06],\n",
       "       [5.41633312e-07],\n",
       "       [3.20117906e-05],\n",
       "       [1.84112787e-03],\n",
       "       [4.80367889e-05],\n",
       "       [1.54560746e-06],\n",
       "       [6.37688117e-06],\n",
       "       [5.36605516e-09],\n",
       "       [5.57062030e-03],\n",
       "       [3.81782193e-05],\n",
       "       [9.11274640e-07],\n",
       "       [3.24997025e-08],\n",
       "       [2.81442738e-07],\n",
       "       [5.39010986e-24],\n",
       "       [1.20420714e-06],\n",
       "       [7.11023808e-04],\n",
       "       [2.99330804e-06],\n",
       "       [5.51553421e-05],\n",
       "       [4.74023819e-03],\n",
       "       [4.81456518e-04],\n",
       "       [1.23512745e-03],\n",
       "       [1.22129853e-08],\n",
       "       [4.79584932e-03],\n",
       "       [5.52961230e-02],\n",
       "       [1.02351360e-05],\n",
       "       [1.64933590e-06],\n",
       "       [7.21767401e-06],\n",
       "       [1.52561069e-03],\n",
       "       [3.13053819e-11],\n",
       "       [9.39871752e-05],\n",
       "       [1.37066095e-10],\n",
       "       [3.81020129e-07],\n",
       "       [4.04347134e-09],\n",
       "       [1.64827704e-03],\n",
       "       [1.49346522e-06],\n",
       "       [1.02979136e-07],\n",
       "       [7.44321582e-08],\n",
       "       [5.66626841e-05],\n",
       "       [5.38256415e-07],\n",
       "       [3.67547572e-02],\n",
       "       [1.96361810e-07],\n",
       "       [5.19131136e-05],\n",
       "       [8.07440281e-03],\n",
       "       [1.75272689e-05],\n",
       "       [1.92235220e-05],\n",
       "       [2.29507685e-04],\n",
       "       [5.05744219e-06],\n",
       "       [4.79993343e-01],\n",
       "       [6.97698124e-06],\n",
       "       [4.01076719e-08],\n",
       "       [5.80608845e-04],\n",
       "       [2.16066837e-04],\n",
       "       [5.56564331e-03],\n",
       "       [3.40296545e-23],\n",
       "       [7.52897222e-06],\n",
       "       [8.05438916e-09],\n",
       "       [3.39721739e-02],\n",
       "       [1.69661165e-15],\n",
       "       [2.23372740e-06],\n",
       "       [9.09781833e-11],\n",
       "       [1.48328513e-06],\n",
       "       [7.22240001e-09],\n",
       "       [4.24769587e-06],\n",
       "       [5.51968813e-04],\n",
       "       [1.26552582e-03],\n",
       "       [1.44928208e-07],\n",
       "       [1.61621273e-02],\n",
       "       [2.47940317e-08],\n",
       "       [3.83426126e-08],\n",
       "       [3.07694421e-07],\n",
       "       [1.65391084e-05],\n",
       "       [1.63962305e-01],\n",
       "       [6.91230844e-06],\n",
       "       [5.66853851e-05],\n",
       "       [8.53805686e-05],\n",
       "       [2.64065438e-05],\n",
       "       [1.11033241e-05],\n",
       "       [4.18663025e-04],\n",
       "       [1.13107699e-05],\n",
       "       [8.52793455e-04],\n",
       "       [3.99403007e-06],\n",
       "       [3.12293355e-06],\n",
       "       [1.79732469e-05],\n",
       "       [4.06904510e-05],\n",
       "       [5.73701113e-12],\n",
       "       [7.93249783e-05],\n",
       "       [3.88322721e-15],\n",
       "       [8.96722078e-04],\n",
       "       [3.67730856e-04],\n",
       "       [1.54601132e-08],\n",
       "       [6.67154789e-04],\n",
       "       [1.24245882e-04],\n",
       "       [1.68011793e-05],\n",
       "       [7.57753849e-04],\n",
       "       [5.77890873e-03],\n",
       "       [5.30901957e-07],\n",
       "       [3.00728748e-14],\n",
       "       [2.85274415e-10],\n",
       "       [1.78346866e-07],\n",
       "       [6.53147697e-04],\n",
       "       [3.37481499e-04],\n",
       "       [1.24045339e-15],\n",
       "       [3.23083960e-09],\n",
       "       [1.11868978e-03],\n",
       "       [1.09117525e-06],\n",
       "       [1.69162632e-07],\n",
       "       [1.46731138e-02],\n",
       "       [4.94772451e-07],\n",
       "       [3.97332860e-06],\n",
       "       [1.80482864e-04],\n",
       "       [1.24616728e-17],\n",
       "       [9.36554372e-08],\n",
       "       [4.34516367e-10],\n",
       "       [3.77921253e-07],\n",
       "       [4.49298204e-06],\n",
       "       [2.09578872e-03],\n",
       "       [1.21725398e-05],\n",
       "       [3.14945617e-12],\n",
       "       [2.00249997e-05],\n",
       "       [6.03546869e-05],\n",
       "       [1.51783228e-03],\n",
       "       [4.40012536e-06],\n",
       "       [5.31566184e-05],\n",
       "       [5.47056835e-08],\n",
       "       [2.66539981e-08],\n",
       "       [4.23333540e-06],\n",
       "       [9.80085497e-06],\n",
       "       [1.65638315e-12],\n",
       "       [9.04357294e-05],\n",
       "       [4.70382750e-01],\n",
       "       [1.53712332e-02],\n",
       "       [1.53696959e-07],\n",
       "       [8.66767514e-05],\n",
       "       [5.15935353e-05],\n",
       "       [2.96293199e-02],\n",
       "       [1.74575121e-06],\n",
       "       [5.22318333e-05]], dtype=float32)"
      ]
     },
     "execution_count": 120,
     "metadata": {},
     "output_type": "execute_result"
    }
   ],
   "source": [
    "ypred"
   ]
  },
  {
   "cell_type": "code",
   "execution_count": 121,
   "metadata": {},
   "outputs": [
    {
     "data": {
      "text/plain": [
       "['amazo.save']"
      ]
     },
     "execution_count": 121,
     "metadata": {},
     "output_type": "execute_result"
    }
   ],
   "source": [
    "#save bag of word model\n",
    "import joblib\n",
    "joblib.dump(cv.vocabulary_,\"amazo.save\")"
   ]
  },
  {
   "cell_type": "code",
   "execution_count": 122,
   "metadata": {},
   "outputs": [],
   "source": [
    "loaded=CountVectorizer(decode_error='replace',vocabulary=joblib.load('amazo.save'))"
   ]
  },
  {
   "cell_type": "code",
   "execution_count": 128,
   "metadata": {},
   "outputs": [
    {
     "data": {
      "text/plain": [
       "CountVectorizer(decode_error='replace',\n",
       "                vocabulary={'ab': 0, 'abandoned': 1, 'abbott': 2,\n",
       "                            'abbreviated': 3, 'abby': 4, 'abc': 5,\n",
       "                            'abducted': 6, 'abe': 7, 'abide': 8, 'ability': 9,\n",
       "                            'able': 10, 'abolitionist': 11, 'abound': 12,\n",
       "                            'abraham': 13, 'abrian': 14, 'abridged': 15,\n",
       "                            'abroad': 16, 'abrupt': 17, 'abruptly': 18,\n",
       "                            'absconded': 19, 'absence': 20, 'absent': 21,\n",
       "                            'absinthe': 22, 'absolute': 23, 'absolutely': 24,\n",
       "                            'absolutley': 25, 'absolve': 26, 'absorbed': 27,\n",
       "                            'absorbing': 28, 'abstinence': 29, ...})"
      ]
     },
     "execution_count": 128,
     "metadata": {},
     "output_type": "execute_result"
    }
   ],
   "source": [
    "loaded"
   ]
  },
  {
   "cell_type": "code",
   "execution_count": 131,
   "metadata": {},
   "outputs": [
    {
     "name": "stdout",
     "output_type": "stream",
     "text": [
      "[[0.02109748]]\n",
      "Positive review\n"
     ]
    }
   ],
   "source": [
    "d=\"Writing was good\"\n",
    "d=d.split('delimiter')\n",
    "result=model.predict(loaded.transform(d))\n",
    "print(result)\n",
    "prediction=result>0.5\n",
    "#print(prediction)\n",
    "if prediction[0] == False:\n",
    "    print(\"Positive review\")\n",
    "elif prediction[0] == True:\n",
    "    print(\"Negative review\")"
   ]
  },
  {
   "cell_type": "code",
   "execution_count": null,
   "metadata": {},
   "outputs": [],
   "source": []
  }
 ],
 "metadata": {
  "kernelspec": {
   "display_name": "Python 3",
   "language": "python",
   "name": "python3"
  },
  "language_info": {
   "codemirror_mode": {
    "name": "ipython",
    "version": 3
   },
   "file_extension": ".py",
   "mimetype": "text/x-python",
   "name": "python",
   "nbconvert_exporter": "python",
   "pygments_lexer": "ipython3",
   "version": "3.8.8"
  }
 },
 "nbformat": 4,
 "nbformat_minor": 2
}
